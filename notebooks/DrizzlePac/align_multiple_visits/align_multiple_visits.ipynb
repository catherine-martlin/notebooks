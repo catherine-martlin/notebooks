{
 "cells": [
  {
   "cell_type": "markdown",
   "metadata": {},
   "source": [
    "# Optimizing Image Alignment for Multiple HST Visits"
   ]
  },
  {
   "cell_type": "markdown",
   "metadata": {},
   "source": [
    "<div class=\"alert-danger\">Note: The notebook in this repository 'Initialization.ipynb' goes over many of the basic concepts such as the setup of the environment/package installation and should be read first if you are new to HST images, DrizzlePac, or Astroquery.</div>"
   ]
  },
  {
   "cell_type": "markdown",
   "metadata": {},
   "source": [
    "## Introduction\n",
    "\n",
    "This notebook demonstrates how to use `TweakReg` and `AstroDrizzle` tasks to align and combine images. While this example focuses on ACS/WFC data, the procedure can be almost identically applied to WFC3/UVIS images. This notebook is based on [a prior example](http://documents.stsci.edu/hst/HST_overview/documents/DrizzlePac/ch75.html) from the 2012 [DrizzlePac Handbook](http://documents.stsci.edu/hst/HST_overview/documents/DrizzlePac/toc.html), but has been updated for compatibility with the STScI AstroConda software distribution.  There is a good deal of explanatory text in this notebook, and users new to DrizzlePac are encouraged to start with this tutorial. Additional DrizzlePac software documentation is available at [the readthedocs webpage](https://drizzlepac.readthedocs.io).\n",
    "\n",
    "Before running the notebook, you will need to install the `astroquery` package, which is used to retrieve the data from the MAST archive and the `ccdproc` package which is used to query the image headers. \n",
    "\n",
    "Summary of steps:\n",
    "\n",
    "1. Download the data from MAST using astroquery. \n",
    "2. Align the images to a common reference frame, and update the WCS using `TweakReg`.\n",
    "3. Combine the aligned images using `AstroDrizzle`."
   ]
  },
  {
   "cell_type": "code",
   "execution_count": 1,
   "metadata": {},
   "outputs": [
    {
     "name": "stdout",
     "output_type": "stream",
     "text": [
      "The following task in the stsci.skypac package can be run with TEAL:\n",
      "                                    skymatch                                    \n",
      "The following tasks in the drizzlepac package can be run with TEAL:\n",
      "    astrodrizzle       config_testbed      imagefindpars           mapreg       \n",
      "       photeq            pixreplace           pixtopix            pixtosky      \n",
      "  refimagefindpars       resetbits          runastrodriz          skytopix      \n",
      "     tweakback            tweakreg           updatenpol\n"
     ]
    }
   ],
   "source": [
    "import glob\n",
    "import os\n",
    "import shutil\n",
    "\n",
    "from astropy.io import ascii\n",
    "from astropy.io import fits\n",
    "from astropy.table import Table\n",
    "from astropy.visualization import ZScaleInterval\n",
    "from astroquery.mast import Observations\n",
    "from ccdproc import ImageFileCollection\n",
    "from drizzlepac import tweakreg\n",
    "from drizzlepac import astrodrizzle\n",
    "from IPython.display import Image\n",
    "import matplotlib.pyplot as plt\n",
    "\n",
    "%matplotlib inline"
   ]
  },
  {
   "cell_type": "markdown",
   "metadata": {},
   "source": [
    "## 1. Download the Data \n",
    "\n",
    "In this example, we align three F606W full-frame 339 second ACS/WFC images of the globular cluster NGC 104 from ACS/CAL Program [10737](http://www.stsci.edu/cgi-bin/get-proposal-info?id=10737&observatory=HST).  These observations were acquired over a 3-month period in separate visits and at different orientations. We will use calibrated, CTE-corrected `*_flc.fits` files, which are available for both WFC3/UVIS and ACS/WFC detectors. \n",
    "\n",
    "            j9irw3fwq_flc.fits\n",
    "            j9irw4b1q_flc.fits\n",
    "            j9irw5kaq_flc.fits\n",
    "            \n",
    "First, we use `astroquery` to look for the desired datasets and retrieve them from MAST. \n",
    "\n",
    "You may query on a large number of parameters, but to obtain these specific datasets we will only need to pass in a few: `obstype = 'all'` to include both calibration and GO programs in the search, `obs_collection = 'HST'` to exclude Hubble Legacy Archive images, and finally `obs_id` to search for a list of the dataset IDs. We finally select only 'FLC' data products using the parameter `productSubGroupDescription` while downloading the files. Because the second 'FLC' file for visit W4 is part of a dithered association, the `obs_id` for that assocation will need to be used instead of the individual filename.  \n",
    "\n",
    "**Note**: The next cell may take awhile to complete or may need to be run more than once, as errors may occasionally arise from a failed server connection."
   ]
  },
  {
   "cell_type": "code",
   "execution_count": 2,
   "metadata": {},
   "outputs": [
    {
     "name": "stdout",
     "output_type": "stream",
     "text": [
      "Downloading URL https://mast.stsci.edu/api/v0.1/Download/file?uri=mast:HST/product/jdkb06s4q_flc.fits to ./mastDownload/HST/jdkb06s4q/jdkb06s4q_flc.fits ... [Done]\n",
      "Downloading URL https://mast.stsci.edu/api/v0.1/Download/file?uri=mast:HST/product/jdkb06s6q_flc.fits to ./mastDownload/HST/jdkb06s6q/jdkb06s6q_flc.fits ... [Done]\n",
      "Downloading URL https://mast.stsci.edu/api/v0.1/Download/file?uri=mast:HST/product/jdkb06saq_flc.fits to ./mastDownload/HST/jdkb06saq/jdkb06saq_flc.fits ... [Done]\n",
      "Downloading URL https://mast.stsci.edu/api/v0.1/Download/file?uri=mast:HST/product/jdkb06seq_flc.fits to ./mastDownload/HST/jdkb06seq/jdkb06seq_flc.fits ... [Done]\n"
     ]
    }
   ],
   "source": [
    "# Query the data\n",
    "obsTable = Observations.query_criteria(obstype='all', \n",
    "    obs_collection='HST',\n",
    "    obs_id=['jdkb06010'])\n",
    "\n",
    "# Download the files\n",
    "products = Observations.get_product_list(obsTable)\n",
    "Observations.download_products(products,download_dir='',\n",
    "                               mrp_only=False,\n",
    "                               productSubGroupDescription='FLC')\n",
    "\n",
    "# Move to working directory (not necessary, but outputs will all be in the same place if this is done)\n",
    "input_flcs = glob.glob(os.path.join('mastDownload', 'HST', '*', '*flc.fits'))\n",
    "for flc in input_flcs:\n",
    "    shutil.copy(flc, os.path.basename(flc))\n",
    "shutil.rmtree('mastDownload') #remove mast download dir now that we've moved the files"
   ]
  },
  {
   "cell_type": "markdown",
   "metadata": {},
   "source": [
    "The files were downloaded into the subdirectory 'mastDownload' within the current working directory and then moved to the current working directory. \n",
    "\n",
    "Next we use `ImageFileCollection` to query the image headers to show the orientation differences between frames, as reflected by the keyword 'PA_V3'."
   ]
  },
  {
   "cell_type": "code",
   "execution_count": 3,
   "metadata": {},
   "outputs": [
    {
     "data": {
      "text/html": [
       "<i>Table masked=True length=4</i>\n",
       "<table id=\"table120713023560\" class=\"table-striped table-bordered table-condensed\">\n",
       "<thead><tr><th>file</th><th>asn_id</th><th>filter1</th><th>filter2</th><th>exptime</th><th>date-obs</th><th>pa_v3</th></tr></thead>\n",
       "<thead><tr><th>str18</th><th>str9</th><th>str7</th><th>str5</th><th>float64</th><th>str10</th><th>float64</th></tr></thead>\n",
       "<tr><td>jdkb06s4q_flc.fits</td><td>JDKB06010</td><td>CLEAR1L</td><td>F814W</td><td>479.0</td><td>2018-08-16</td><td>75.531143</td></tr>\n",
       "<tr><td>jdkb06s6q_flc.fits</td><td>JDKB06010</td><td>CLEAR1L</td><td>F814W</td><td>667.0</td><td>2018-08-16</td><td>75.531113</td></tr>\n",
       "<tr><td>jdkb06saq_flc.fits</td><td>JDKB06010</td><td>CLEAR1L</td><td>F814W</td><td>667.0</td><td>2018-08-16</td><td>75.531097</td></tr>\n",
       "<tr><td>jdkb06seq_flc.fits</td><td>JDKB06010</td><td>CLEAR1L</td><td>F814W</td><td>458.0</td><td>2018-08-16</td><td>75.531143</td></tr>\n",
       "</table>"
      ],
      "text/plain": [
       "<Table masked=True length=4>\n",
       "       file          asn_id  filter1 filter2 exptime  date-obs    pa_v3  \n",
       "      str18           str9     str7    str5  float64   str10     float64 \n",
       "------------------ --------- ------- ------- ------- ---------- ---------\n",
       "jdkb06s4q_flc.fits JDKB06010 CLEAR1L   F814W   479.0 2018-08-16 75.531143\n",
       "jdkb06s6q_flc.fits JDKB06010 CLEAR1L   F814W   667.0 2018-08-16 75.531113\n",
       "jdkb06saq_flc.fits JDKB06010 CLEAR1L   F814W   667.0 2018-08-16 75.531097\n",
       "jdkb06seq_flc.fits JDKB06010 CLEAR1L   F814W   458.0 2018-08-16 75.531143"
      ]
     },
     "execution_count": 3,
     "metadata": {},
     "output_type": "execute_result"
    }
   ],
   "source": [
    "collect_ACS = ImageFileCollection('./', glob_include=\"*flc.fits\", ext=0,\n",
    "                                  keywords=[\"asn_id\",\"filter1\",\"filter2\",\"exptime\",\"date-obs\",\"pa_v3\"])\n",
    "\n",
    "ACS_table = collect_ACS.summary\n",
    "ACS_table['exptime'].format='7.1f'\n",
    "ACS_table"
   ]
  },
  {
   "cell_type": "code",
   "execution_count": 4,
   "metadata": {},
   "outputs": [
    {
     "name": "stdout",
     "output_type": "stream",
     "text": [
      "['jdkb06saq_flc.fits', 'jdkb06s4q_flc.fits', 'jdkb06s6q_flc.fits', 'jdkb06seq_flc.fits']\n"
     ]
    }
   ],
   "source": [
    "#Remove the second file in the W4 association to simplify this notebook example and define the input file list.\n",
    "\n",
    "#os.remove('j9irw4b3q_flc.fits')\n",
    "input_flcs = glob.glob('*flc.fits')\n",
    "print(input_flcs)"
   ]
  },
  {
   "cell_type": "markdown",
   "metadata": {},
   "source": [
    "## 2. Align the Images with TweakReg\n",
    "\n",
    "In order to correctly align and combine multiple images into a distortion-free final drizzled product, `AstroDrizzle` relies on the World Coordinate System (WCS) information stored in the header of each image. Because the WCS information for an image is tied to the positions of guide stars used for the observation, each image will have small pointing errors offsets due to the uncertainty in guide star positions. The `TweakReg` software can align a set of images to better than subpixel accuracy (<0.1 pixel). All input images are aligned to one chosen reference image's WCS. The reference image is typically selected as the first image in the input list, but can be chosen explicitly via the `refimage` parameter, if desired.\n",
    "\n",
    "The `TweakReg` algorithm consists of a few steps:\n",
    "\n",
    "    1. Makes a catalog of source positions for each input (and reference) image using a source finding algorithm        similar to DAOFind. \n",
    "    2. Converts the pixel position catalogs to sky position catalogs.\n",
    "    3. Finds common source positions between reference and input image catalogs.\n",
    "    4. Calculates the shifts, rotation, and scale needed to align sky positions of sources in the input images.\n",
    "    5. (Optionally) Updates the input image headers with the newly calculated WCS information."
   ]
  },
  {
   "cell_type": "markdown",
   "metadata": {},
   "source": [
    "`TweakReg` has numerous parameters that are listed in the documentation. For this first pass, we will run `TweakReg` with default parameters and show how it fails for this dataset. In subsequent attempts, we will change critical parameters and show how this improves the alignment. The 5 parameters listed below are commented out when left at their default values and uncommented when set to non-defaults. \n",
    "\n",
    "    'conv_width' : 2x FWHM (~3.5 pix for point sources in ACS/WFC or WFC3/UVIS)\n",
    "    'threshold'  : Signal-to-noise above background. Start large and reduce until number of objects is acceptable.\n",
    "    'peakmax'    : Source brightness cutoff, set to avoid saturated sources. \n",
    "    'searchrad'  : Search radius for finding common sources between images.\n",
    "    'fitgeometry': Geometry used to fit offsets, rotations and/or scale changes from the matched object lists. \n",
    "                   The default `fitgeometry` of 'rscale' allows for an x/y shift, scale and rotation, and the \n",
    "                   'general' fit allows for an xy/shift and an independent scale and rotation for each axis.\n",
    "    \n",
    "Note that both `TweakReg` and `AstroDrizzle` will by default load in settings from any existing `.cfg` files if you've run them before. Default parameters are restored by setting `configobj = None`. "
   ]
  },
  {
   "cell_type": "markdown",
   "metadata": {},
   "source": [
    "### 2a. First test: Use 'default' parameters\n",
    "\n",
    "This first test may take a long time to run because the default `threshold` value finds >100,000 objects per image. It is included for illustration purposes only, and users may skip to step 2b if desired."
   ]
  },
  {
   "cell_type": "code",
   "execution_count": null,
   "metadata": {},
   "outputs": [
    {
     "name": "stderr",
     "output_type": "stream",
     "text": [
      "INFO:drizzlepac.util:Setting up logfile :  tweakreg.log\n"
     ]
    },
    {
     "name": "stdout",
     "output_type": "stream",
     "text": [
      "Setting up logfile :  tweakreg.log\n"
     ]
    },
    {
     "name": "stderr",
     "output_type": "stream",
     "text": [
      "INFO:drizzlepac.tweakreg:TweakReg Version 1.4.7(18-April-2018) started at: 15:10:07.321 (06/04/2020) \n"
     ]
    },
    {
     "name": "stdout",
     "output_type": "stream",
     "text": [
      "TweakReg Version 1.4.7(18-April-2018) started at: 15:10:07.321 (06/04/2020) \n"
     ]
    },
    {
     "name": "stderr",
     "output_type": "stream",
     "text": [
      "INFO:drizzlepac.tweakreg:\n"
     ]
    },
    {
     "name": "stdout",
     "output_type": "stream",
     "text": [
      "\n"
     ]
    },
    {
     "name": "stderr",
     "output_type": "stream",
     "text": [
      "INFO:drizzlepac.util:Version Information\n"
     ]
    },
    {
     "name": "stdout",
     "output_type": "stream",
     "text": [
      "Version Information\n"
     ]
    },
    {
     "name": "stderr",
     "output_type": "stream",
     "text": [
      "INFO:drizzlepac.util:--------------------\n"
     ]
    },
    {
     "name": "stdout",
     "output_type": "stream",
     "text": [
      "--------------------\n"
     ]
    },
    {
     "name": "stderr",
     "output_type": "stream",
     "text": [
      "INFO:drizzlepac.util:Python Version [GCC 4.2.1 Compatible Clang 4.0.1 (tags/RELEASE_401/final)]\n"
     ]
    },
    {
     "name": "stdout",
     "output_type": "stream",
     "text": [
      "Python Version [GCC 4.2.1 Compatible Clang 4.0.1 (tags/RELEASE_401/final)]\n"
     ]
    },
    {
     "name": "stderr",
     "output_type": "stream",
     "text": [
      "INFO:drizzlepac.util:3.6.9 |Anaconda, Inc.| (default, Jul 30 2019, 13:42:17) \n"
     ]
    },
    {
     "name": "stdout",
     "output_type": "stream",
     "text": [
      "3.6.9 |Anaconda, Inc.| (default, Jul 30 2019, 13:42:17) \n"
     ]
    },
    {
     "name": "stderr",
     "output_type": "stream",
     "text": [
      "INFO:drizzlepac.util:numpy Version -> 1.17.4 \n"
     ]
    },
    {
     "name": "stdout",
     "output_type": "stream",
     "text": [
      "numpy Version -> 1.17.4 \n"
     ]
    },
    {
     "name": "stderr",
     "output_type": "stream",
     "text": [
      "INFO:drizzlepac.util:astropy Version -> 3.2.3 \n"
     ]
    },
    {
     "name": "stdout",
     "output_type": "stream",
     "text": [
      "astropy Version -> 3.2.3 \n"
     ]
    },
    {
     "name": "stderr",
     "output_type": "stream",
     "text": [
      "INFO:drizzlepac.util:stwcs Version -> 1.5.3 \n"
     ]
    },
    {
     "name": "stdout",
     "output_type": "stream",
     "text": [
      "stwcs Version -> 1.5.3 \n"
     ]
    },
    {
     "name": "stderr",
     "output_type": "stream",
     "text": [
      "INFO:drizzlepac.tweakreg:\n",
      "INFO:drizzlepac.tweakreg:USER INPUT PARAMETERS common to all Processing Steps:\n",
      "INFO:drizzlepac.tweakreg:\tclean :\tFalse\n",
      "INFO:drizzlepac.tweakreg:\tenforce_user_order :\tTrue\n",
      "INFO:drizzlepac.tweakreg:\texclusions :\t\n",
      "INFO:drizzlepac.tweakreg:\texpand_refcat :\tFalse\n",
      "INFO:drizzlepac.tweakreg:\tinput :\t['jdkb06saq_flc.fits', 'jdkb06s4q_flc.fits', 'jdkb06s6q_flc.fits', 'jdkb06seq_flc.fits']\n",
      "INFO:drizzlepac.tweakreg:\tinteractive :\tFalse\n",
      "INFO:drizzlepac.tweakreg:\trefimage :\t\n",
      "INFO:drizzlepac.tweakreg:\trunfile :\ttweakreg.log\n",
      "INFO:drizzlepac.tweakreg:\tupdatewcs :\tFalse\n",
      "INFO:drizzlepac.tweakreg:\tverbose :\tFalse\n",
      "INFO:drizzlepac.tweakreg:\twritecat :\tTrue\n",
      "INFO:drizzlepac.tweakreg:\n"
     ]
    },
    {
     "name": "stdout",
     "output_type": "stream",
     "text": [
      "\n"
     ]
    },
    {
     "name": "stderr",
     "output_type": "stream",
     "text": [
      "INFO:drizzlepac.tweakreg:Finding shifts for: \n"
     ]
    },
    {
     "name": "stdout",
     "output_type": "stream",
     "text": [
      "Finding shifts for: \n"
     ]
    },
    {
     "name": "stderr",
     "output_type": "stream",
     "text": [
      "INFO:drizzlepac.tweakreg:    jdkb06saq_flc.fits\n"
     ]
    },
    {
     "name": "stdout",
     "output_type": "stream",
     "text": [
      "    jdkb06saq_flc.fits\n"
     ]
    },
    {
     "name": "stderr",
     "output_type": "stream",
     "text": [
      "INFO:drizzlepac.tweakreg:    jdkb06s4q_flc.fits\n"
     ]
    },
    {
     "name": "stdout",
     "output_type": "stream",
     "text": [
      "    jdkb06s4q_flc.fits\n"
     ]
    },
    {
     "name": "stderr",
     "output_type": "stream",
     "text": [
      "INFO:drizzlepac.tweakreg:    jdkb06s6q_flc.fits\n"
     ]
    },
    {
     "name": "stdout",
     "output_type": "stream",
     "text": [
      "    jdkb06s6q_flc.fits\n"
     ]
    },
    {
     "name": "stderr",
     "output_type": "stream",
     "text": [
      "INFO:drizzlepac.tweakreg:    jdkb06seq_flc.fits\n"
     ]
    },
    {
     "name": "stdout",
     "output_type": "stream",
     "text": [
      "    jdkb06seq_flc.fits\n"
     ]
    },
    {
     "name": "stderr",
     "output_type": "stream",
     "text": [
      "INFO:drizzlepac.tweakreg:\n"
     ]
    },
    {
     "name": "stdout",
     "output_type": "stream",
     "text": [
      "\n"
     ]
    },
    {
     "name": "stderr",
     "output_type": "stream",
     "text": [
      "INFO:drizzlepac.tweakreg:USER INPUT PARAMETERS for finding sources for each input image:\n",
      "INFO:drizzlepac.tweakreg:\tclean :\tFalse\n",
      "INFO:drizzlepac.tweakreg:\tcomputesig :\tTrue\n",
      "INFO:drizzlepac.tweakreg:\tconv_width :\t3.5\n",
      "INFO:drizzlepac.tweakreg:\tdqbits :\t\n",
      "INFO:drizzlepac.tweakreg:\tenforce_user_order :\tTrue\n",
      "INFO:drizzlepac.tweakreg:\texpand_refcat :\tFalse\n",
      "INFO:drizzlepac.tweakreg:\tfluxmax :\tNone\n",
      "INFO:drizzlepac.tweakreg:\tfluxmin :\tNone\n",
      "INFO:drizzlepac.tweakreg:\tinput :\t['jdkb06saq_flc.fits', 'jdkb06s4q_flc.fits', 'jdkb06s6q_flc.fits', 'jdkb06seq_flc.fits']\n",
      "INFO:drizzlepac.tweakreg:\tinteractive :\tFalse\n",
      "INFO:drizzlepac.tweakreg:\tnsigma :\t1.5\n",
      "INFO:drizzlepac.tweakreg:\tpeakmax :\tNone\n",
      "INFO:drizzlepac.tweakreg:\tpeakmin :\tNone\n",
      "INFO:drizzlepac.tweakreg:\tratio :\t1.0\n",
      "INFO:drizzlepac.tweakreg:\trefimage :\t\n",
      "INFO:drizzlepac.tweakreg:\troundhi :\t1.0\n",
      "INFO:drizzlepac.tweakreg:\troundlo :\t-1.0\n",
      "INFO:drizzlepac.tweakreg:\trunfile :\ttweakreg.log\n",
      "INFO:drizzlepac.tweakreg:\tsharphi :\t1.0\n",
      "INFO:drizzlepac.tweakreg:\tsharplo :\t0.2\n",
      "INFO:drizzlepac.tweakreg:\tskysigma :\t0.0\n",
      "INFO:drizzlepac.tweakreg:\ttheta :\t0.0\n",
      "INFO:drizzlepac.tweakreg:\tthreshold :\t4.0\n",
      "INFO:drizzlepac.tweakreg:\tupdatehdr :\tFalse\n",
      "INFO:drizzlepac.tweakreg:\tupdatewcs :\tFalse\n",
      "INFO:drizzlepac.tweakreg:\tuse_sharp_round :\tFalse\n",
      "INFO:drizzlepac.tweakreg:\tverbose :\tFalse\n",
      "INFO:drizzlepac.tweakreg:\twritecat :\tTrue\n",
      "INFO:drizzlepac.tweakreg:\txyunits :\tpixels\n",
      "INFO:drizzlepac.tweakreg:\n",
      "INFO:drizzlepac.imgclasses:===  Source finding for image 'jdkb06saq_flc.fits':\n"
     ]
    },
    {
     "name": "stdout",
     "output_type": "stream",
     "text": [
      "===  Source finding for image 'jdkb06saq_flc.fits':\n"
     ]
    },
    {
     "name": "stderr",
     "output_type": "stream",
     "text": [
      "INFO:drizzlepac.catalogs:  #  Source finding for 'jdkb06saq_flc.fits', EXT=('SCI', 1) started at: 15:10:44.817 (06/04/2020)\n"
     ]
    },
    {
     "name": "stdout",
     "output_type": "stream",
     "text": [
      "  #  Source finding for 'jdkb06saq_flc.fits', EXT=('SCI', 1) started at: 15:10:44.817 (06/04/2020)\n"
     ]
    },
    {
     "name": "stderr",
     "output_type": "stream",
     "text": [
      "INFO:drizzlepac.catalogs:   Finding sources using sky sigma = 10.669842\n",
      "INFO:drizzlepac.catalogs:###Source finding finished at: 15:10:50.751 (06/04/2020)\n",
      "INFO:drizzlepac.catalogs:     Found 68123 objects.\n"
     ]
    },
    {
     "name": "stdout",
     "output_type": "stream",
     "text": [
      "     Found 68123 objects.\n"
     ]
    },
    {
     "name": "stderr",
     "output_type": "stream",
     "text": [
      "INFO:drizzlepac.catalogs:  #  Source finding for 'jdkb06saq_flc.fits', EXT=('SCI', 2) started at: 15:11:32.529 (06/04/2020)\n"
     ]
    },
    {
     "name": "stdout",
     "output_type": "stream",
     "text": [
      "  #  Source finding for 'jdkb06saq_flc.fits', EXT=('SCI', 2) started at: 15:11:32.529 (06/04/2020)\n"
     ]
    },
    {
     "name": "stderr",
     "output_type": "stream",
     "text": [
      "INFO:drizzlepac.catalogs:   Finding sources using sky sigma = 10.690650\n",
      "INFO:drizzlepac.catalogs:###Source finding finished at: 15:11:38.211 (06/04/2020)\n",
      "INFO:drizzlepac.catalogs:     Found 69696 objects.\n"
     ]
    },
    {
     "name": "stdout",
     "output_type": "stream",
     "text": [
      "     Found 69696 objects.\n"
     ]
    },
    {
     "name": "stderr",
     "output_type": "stream",
     "text": [
      "INFO:drizzlepac.imgclasses:===  FINAL number of objects in image 'jdkb06saq_flc.fits': 137819\n"
     ]
    },
    {
     "name": "stdout",
     "output_type": "stream",
     "text": [
      "===  FINAL number of objects in image 'jdkb06saq_flc.fits': 137819\n"
     ]
    },
    {
     "name": "stderr",
     "output_type": "stream",
     "text": [
      "INFO:drizzlepac.imgclasses:\n"
     ]
    },
    {
     "name": "stdout",
     "output_type": "stream",
     "text": [
      "\n"
     ]
    },
    {
     "name": "stderr",
     "output_type": "stream",
     "text": [
      "INFO:drizzlepac.imgclasses:===  Source finding for image 'jdkb06s4q_flc.fits':\n"
     ]
    },
    {
     "name": "stdout",
     "output_type": "stream",
     "text": [
      "===  Source finding for image 'jdkb06s4q_flc.fits':\n"
     ]
    },
    {
     "name": "stderr",
     "output_type": "stream",
     "text": [
      "INFO:drizzlepac.catalogs:  #  Source finding for 'jdkb06s4q_flc.fits', EXT=('SCI', 1) started at: 15:12:25.732 (06/04/2020)\n"
     ]
    },
    {
     "name": "stdout",
     "output_type": "stream",
     "text": [
      "  #  Source finding for 'jdkb06s4q_flc.fits', EXT=('SCI', 1) started at: 15:12:25.732 (06/04/2020)\n"
     ]
    },
    {
     "name": "stderr",
     "output_type": "stream",
     "text": [
      "INFO:drizzlepac.catalogs:   Finding sources using sky sigma = 8.925420\n",
      "INFO:drizzlepac.catalogs:###Source finding finished at: 15:12:32.386 (06/04/2020)\n",
      "INFO:drizzlepac.catalogs:     Found 77146 objects.\n"
     ]
    },
    {
     "name": "stdout",
     "output_type": "stream",
     "text": [
      "     Found 77146 objects.\n"
     ]
    },
    {
     "name": "stderr",
     "output_type": "stream",
     "text": [
      "INFO:drizzlepac.catalogs:  #  Source finding for 'jdkb06s4q_flc.fits', EXT=('SCI', 2) started at: 15:12:56.989 (06/04/2020)\n"
     ]
    },
    {
     "name": "stdout",
     "output_type": "stream",
     "text": [
      "  #  Source finding for 'jdkb06s4q_flc.fits', EXT=('SCI', 2) started at: 15:12:56.989 (06/04/2020)\n"
     ]
    },
    {
     "name": "stderr",
     "output_type": "stream",
     "text": [
      "INFO:drizzlepac.catalogs:   Finding sources using sky sigma = 8.754943\n",
      "INFO:drizzlepac.catalogs:###Source finding finished at: 15:13:03.765 (06/04/2020)\n",
      "INFO:drizzlepac.catalogs:     Found 82390 objects.\n"
     ]
    },
    {
     "name": "stdout",
     "output_type": "stream",
     "text": [
      "     Found 82390 objects.\n"
     ]
    },
    {
     "name": "stderr",
     "output_type": "stream",
     "text": [
      "INFO:drizzlepac.imgclasses:===  FINAL number of objects in image 'jdkb06s4q_flc.fits': 159536\n"
     ]
    },
    {
     "name": "stdout",
     "output_type": "stream",
     "text": [
      "===  FINAL number of objects in image 'jdkb06s4q_flc.fits': 159536\n"
     ]
    },
    {
     "name": "stderr",
     "output_type": "stream",
     "text": [
      "INFO:drizzlepac.imgclasses:\n"
     ]
    },
    {
     "name": "stdout",
     "output_type": "stream",
     "text": [
      "\n"
     ]
    },
    {
     "name": "stderr",
     "output_type": "stream",
     "text": [
      "INFO:drizzlepac.imgclasses:===  Source finding for image 'jdkb06s6q_flc.fits':\n"
     ]
    },
    {
     "name": "stdout",
     "output_type": "stream",
     "text": [
      "===  Source finding for image 'jdkb06s6q_flc.fits':\n"
     ]
    },
    {
     "name": "stderr",
     "output_type": "stream",
     "text": [
      "INFO:drizzlepac.catalogs:  #  Source finding for 'jdkb06s6q_flc.fits', EXT=('SCI', 1) started at: 15:13:34.27 (06/04/2020)\n"
     ]
    },
    {
     "name": "stdout",
     "output_type": "stream",
     "text": [
      "  #  Source finding for 'jdkb06s6q_flc.fits', EXT=('SCI', 1) started at: 15:13:34.27 (06/04/2020)\n"
     ]
    },
    {
     "name": "stderr",
     "output_type": "stream",
     "text": [
      "INFO:drizzlepac.catalogs:   Finding sources using sky sigma = 10.478015\n",
      "INFO:drizzlepac.catalogs:###Source finding finished at: 15:13:40.260 (06/04/2020)\n",
      "INFO:drizzlepac.catalogs:     Found 68482 objects.\n"
     ]
    },
    {
     "name": "stdout",
     "output_type": "stream",
     "text": [
      "     Found 68482 objects.\n"
     ]
    },
    {
     "name": "stderr",
     "output_type": "stream",
     "text": [
      "INFO:drizzlepac.catalogs:  #  Source finding for 'jdkb06s6q_flc.fits', EXT=('SCI', 2) started at: 15:14:13.447 (06/04/2020)\n"
     ]
    },
    {
     "name": "stdout",
     "output_type": "stream",
     "text": [
      "  #  Source finding for 'jdkb06s6q_flc.fits', EXT=('SCI', 2) started at: 15:14:13.447 (06/04/2020)\n"
     ]
    },
    {
     "name": "stderr",
     "output_type": "stream",
     "text": [
      "INFO:drizzlepac.catalogs:   Finding sources using sky sigma = 10.357660\n",
      "INFO:drizzlepac.catalogs:###Source finding finished at: 15:14:19.375 (06/04/2020)\n",
      "INFO:drizzlepac.catalogs:     Found 72185 objects.\n"
     ]
    },
    {
     "name": "stdout",
     "output_type": "stream",
     "text": [
      "     Found 72185 objects.\n"
     ]
    },
    {
     "name": "stderr",
     "output_type": "stream",
     "text": [
      "INFO:drizzlepac.imgclasses:===  FINAL number of objects in image 'jdkb06s6q_flc.fits': 140667\n"
     ]
    },
    {
     "name": "stdout",
     "output_type": "stream",
     "text": [
      "===  FINAL number of objects in image 'jdkb06s6q_flc.fits': 140667\n"
     ]
    },
    {
     "name": "stderr",
     "output_type": "stream",
     "text": [
      "INFO:drizzlepac.imgclasses:\n"
     ]
    },
    {
     "name": "stdout",
     "output_type": "stream",
     "text": [
      "\n"
     ]
    },
    {
     "name": "stderr",
     "output_type": "stream",
     "text": [
      "INFO:drizzlepac.imgclasses:===  Source finding for image 'jdkb06seq_flc.fits':\n"
     ]
    },
    {
     "name": "stdout",
     "output_type": "stream",
     "text": [
      "===  Source finding for image 'jdkb06seq_flc.fits':\n"
     ]
    },
    {
     "name": "stderr",
     "output_type": "stream",
     "text": [
      "INFO:drizzlepac.catalogs:  #  Source finding for 'jdkb06seq_flc.fits', EXT=('SCI', 1) started at: 15:14:57.2 (06/04/2020)\n"
     ]
    },
    {
     "name": "stdout",
     "output_type": "stream",
     "text": [
      "  #  Source finding for 'jdkb06seq_flc.fits', EXT=('SCI', 1) started at: 15:14:57.2 (06/04/2020)\n"
     ]
    },
    {
     "name": "stderr",
     "output_type": "stream",
     "text": [
      "INFO:drizzlepac.catalogs:   Finding sources using sky sigma = 9.716590\n",
      "INFO:drizzlepac.catalogs:###Source finding finished at: 15:15:02.69 (06/04/2020)\n",
      "INFO:drizzlepac.catalogs:     Found 68735 objects.\n"
     ]
    },
    {
     "name": "stdout",
     "output_type": "stream",
     "text": [
      "     Found 68735 objects.\n"
     ]
    },
    {
     "name": "stderr",
     "output_type": "stream",
     "text": [
      "INFO:drizzlepac.catalogs:  #  Source finding for 'jdkb06seq_flc.fits', EXT=('SCI', 2) started at: 15:15:43.091 (06/04/2020)\n"
     ]
    },
    {
     "name": "stdout",
     "output_type": "stream",
     "text": [
      "  #  Source finding for 'jdkb06seq_flc.fits', EXT=('SCI', 2) started at: 15:15:43.091 (06/04/2020)\n"
     ]
    },
    {
     "name": "stderr",
     "output_type": "stream",
     "text": [
      "INFO:drizzlepac.catalogs:   Finding sources using sky sigma = 9.690693\n",
      "INFO:drizzlepac.catalogs:###Source finding finished at: 15:15:48.610 (06/04/2020)\n",
      "INFO:drizzlepac.catalogs:     Found 71145 objects.\n"
     ]
    },
    {
     "name": "stdout",
     "output_type": "stream",
     "text": [
      "     Found 71145 objects.\n"
     ]
    },
    {
     "name": "stderr",
     "output_type": "stream",
     "text": [
      "INFO:drizzlepac.imgclasses:===  FINAL number of objects in image 'jdkb06seq_flc.fits': 139880\n"
     ]
    },
    {
     "name": "stdout",
     "output_type": "stream",
     "text": [
      "===  FINAL number of objects in image 'jdkb06seq_flc.fits': 139880\n"
     ]
    },
    {
     "name": "stderr",
     "output_type": "stream",
     "text": [
      "INFO:drizzlepac.imgclasses:\n"
     ]
    },
    {
     "name": "stdout",
     "output_type": "stream",
     "text": [
      "\n"
     ]
    },
    {
     "name": "stderr",
     "output_type": "stream",
     "text": [
      "INFO:drizzlepac.imgclasses:Converting RA/Dec positions of reference sources from \"jdkb06saq_flc.fits\" to X,Y positions in reference WCS...\n",
      "INFO:drizzlepac.tweakreg:\n"
     ]
    },
    {
     "name": "stdout",
     "output_type": "stream",
     "text": [
      "\n"
     ]
    },
    {
     "name": "stderr",
     "output_type": "stream",
     "text": [
      "INFO:drizzlepac.tweakreg:===============================================================\n"
     ]
    },
    {
     "name": "stdout",
     "output_type": "stream",
     "text": [
      "===============================================================\n"
     ]
    },
    {
     "name": "stderr",
     "output_type": "stream",
     "text": [
      "INFO:drizzlepac.tweakreg:Performing alignment in the projection plane defined by the WCS\n"
     ]
    },
    {
     "name": "stdout",
     "output_type": "stream",
     "text": [
      "Performing alignment in the projection plane defined by the WCS\n"
     ]
    },
    {
     "name": "stderr",
     "output_type": "stream",
     "text": [
      "INFO:drizzlepac.tweakreg:derived from 'jdkb06saq_flc.fits'\n"
     ]
    },
    {
     "name": "stdout",
     "output_type": "stream",
     "text": [
      "derived from 'jdkb06saq_flc.fits'\n"
     ]
    },
    {
     "name": "stderr",
     "output_type": "stream",
     "text": [
      "INFO:drizzlepac.tweakreg:===============================================================\n"
     ]
    },
    {
     "name": "stdout",
     "output_type": "stream",
     "text": [
      "===============================================================\n"
     ]
    },
    {
     "name": "stderr",
     "output_type": "stream",
     "text": [
      "INFO:drizzlepac.tweakreg:\n"
     ]
    },
    {
     "name": "stdout",
     "output_type": "stream",
     "text": [
      "\n"
     ]
    },
    {
     "name": "stderr",
     "output_type": "stream",
     "text": [
      "INFO:drizzlepac.tweakreg:USER INPUT PARAMETERS for matching sources:\n",
      "INFO:drizzlepac.tweakreg:\tminobj :\t15\n",
      "INFO:drizzlepac.tweakreg:\tresidplot :\tboth\n",
      "INFO:drizzlepac.tweakreg:\tsearchrad :\t1.0\n",
      "INFO:drizzlepac.tweakreg:\tsearchunits :\tarcseconds\n",
      "INFO:drizzlepac.tweakreg:\tsee2dplot :\tTrue\n",
      "INFO:drizzlepac.tweakreg:\tseparation :\t0.5\n",
      "INFO:drizzlepac.tweakreg:\ttolerance :\t1.0\n",
      "INFO:drizzlepac.tweakreg:\tuse2dhist :\tTrue\n",
      "INFO:drizzlepac.tweakreg:\txoffset :\t0.0\n",
      "INFO:drizzlepac.tweakreg:\tyoffset :\t0.0\n",
      "INFO:drizzlepac.tweakreg:\n",
      "INFO:drizzlepac.tweakreg:USER INPUT PARAMETERS for fitting source lists:\n",
      "INFO:drizzlepac.tweakreg:\tfitgeometry :\trscale\n",
      "INFO:drizzlepac.tweakreg:\tlabelsize :\t8\n",
      "INFO:drizzlepac.tweakreg:\tminobj :\t15\n",
      "INFO:drizzlepac.tweakreg:\tnclip :\t3\n",
      "INFO:drizzlepac.tweakreg:\tresidplot :\tboth\n",
      "INFO:drizzlepac.tweakreg:\tsigma :\t3.0\n",
      "INFO:drizzlepac.tweakreg:\tylimit :\tNone\n",
      "INFO:drizzlepac.tweakreg:\n",
      "INFO:drizzlepac.tweakreg:USER INPUT PARAMETERS for creating a shiftfile:\n",
      "INFO:drizzlepac.tweakreg:\toutshifts :\tshift_default.txt\n",
      "INFO:drizzlepac.tweakreg:\toutwcs :\tshifts_wcs.fits\n",
      "INFO:drizzlepac.tweakreg:\tshiftfile :\tTrue\n",
      "INFO:drizzlepac.tweakreg:\n"
     ]
    },
    {
     "name": "stdout",
     "output_type": "stream",
     "text": [
      "\n"
     ]
    },
    {
     "name": "stderr",
     "output_type": "stream",
     "text": [
      "INFO:drizzlepac.tweakreg:====================\n"
     ]
    },
    {
     "name": "stdout",
     "output_type": "stream",
     "text": [
      "====================\n"
     ]
    },
    {
     "name": "stderr",
     "output_type": "stream",
     "text": [
      "INFO:drizzlepac.tweakreg:Performing fit for: jdkb06s4q_flc.fits\n"
     ]
    },
    {
     "name": "stdout",
     "output_type": "stream",
     "text": [
      "Performing fit for: jdkb06s4q_flc.fits\n"
     ]
    },
    {
     "name": "stderr",
     "output_type": "stream",
     "text": [
      "INFO:drizzlepac.tweakreg:\n"
     ]
    },
    {
     "name": "stdout",
     "output_type": "stream",
     "text": [
      "\n"
     ]
    },
    {
     "name": "stderr",
     "output_type": "stream",
     "text": [
      "INFO:drizzlepac.imgclasses:Matching sources from 'jdkb06s4q_flc.fits' with sources from reference image 'jdkb06saq_flc.fits'\n"
     ]
    },
    {
     "name": "stdout",
     "output_type": "stream",
     "text": [
      "Matching sources from 'jdkb06s4q_flc.fits' with sources from reference image 'jdkb06saq_flc.fits'\n"
     ]
    },
    {
     "name": "stderr",
     "output_type": "stream",
     "text": [
      "INFO:drizzlepac.imgclasses:Computing initial guess for X and Y shifts...\n"
     ]
    },
    {
     "name": "stdout",
     "output_type": "stream",
     "text": [
      "Computing initial guess for X and Y shifts...\n"
     ]
    }
   ],
   "source": [
    "tweakreg.TweakReg(input_flcs, \n",
    "    #conv_width=3.5, \n",
    "    #threshold=4, \n",
    "    #peakmax=None,\n",
    "    #searchrad=1.0,\n",
    "    #fitgeometry='rscale',\n",
    "    configobj = None, \n",
    "    interactive=False,\n",
    "    shiftfile=True, \n",
    "    outshifts='shift_default.txt',              \n",
    "    updatehdr=False)"
   ]
  },
  {
   "cell_type": "markdown",
   "metadata": {},
   "source": [
    "`TweakReg` looks for sources which are 4-sigma above the background, but this `threshold` value is clearly too low, since the catalogs contain ~60,000 objects per chip in each frame, and ~6500 matched sources between each exposure. Setting the `threshold` to a very low value generally does *not* translate to a better solution, since all sources are weighted equally when computing fits to match catalogs. This is especially relevant for ACS/WFC and WFC3/UVIS data where CTE tails can shift the centroid position slightly along the readout direction for faint sources and potentially bias the fit.\n",
    "\n",
    "The shift file below shows that the xrms and yrms of the computed fit is large, ~0.7 pixels."
   ]
  },
  {
   "cell_type": "code",
   "execution_count": null,
   "metadata": {},
   "outputs": [],
   "source": [
    "shift_tab = Table.read('shift_default.txt',\n",
    "                       format='ascii.no_header',\n",
    "                       names=['file','dx','dy','rot','scale','xrms','yrms'])\n",
    "\n",
    "formats = ['.2f', '.2f', '.3f', '.5f', '.2f', '.2f']\n",
    "for i, col in enumerate(shift_tab.colnames[1:]):\n",
    "    shift_tab[col].format = formats[i]\n",
    "shift_tab"
   ]
  },
  {
   "cell_type": "markdown",
   "metadata": {},
   "source": [
    "When `interactive` = False, `TweakReg` outputs several diagnostic plots in the working directory for you to inspect the fit quality. For each input file, except the reference file, TweakReg creates an x/y plot of fit residuals and a vector plot. Let's take a look at one of the residuals plots first. "
   ]
  },
  {
   "cell_type": "code",
   "execution_count": null,
   "metadata": {},
   "outputs": [],
   "source": [
    "#Give the 'fit residual plots' a unique name for comparison with other tests.\n",
    "\n",
    "os.rename('residuals_j9irw5kaq_flc.png','residuals_j9irw5kaq_flc_default.png')\n",
    "Image(filename='residuals_j9irw5kaq_flc_default.png', width=500, height=600) "
   ]
  },
  {
   "cell_type": "markdown",
   "metadata": {},
   "source": [
    "### 2b. Second test: Increase `threshold`, `peakmax`\n",
    "In this test, the `threshold` value was manually adjusted to a larger value, and the `peakmax` value was set to 70,000 electrons to exclude full-well saturated objects for gain=2. `TweakReg` now finds a more reasonable number of sources per ACS chip (~500) but fails to find an adequate number of sources matching the reference image due to a `searchrad` value of 1.0\", which is too small. "
   ]
  },
  {
   "cell_type": "code",
   "execution_count": null,
   "metadata": {},
   "outputs": [],
   "source": [
    "tweakreg.TweakReg(input_flcs, \n",
    "    #conv_width=3.5, \n",
    "    threshold=4000, \n",
    "    #searchrad=1.0,\n",
    "    peakmax=70000,\n",
    "    #fitgeometry='rscale',\n",
    "    configobj = None, \n",
    "    interactive=False,\n",
    "    shiftfile=True, \n",
    "    outshifts='shift_thresh.txt',              \n",
    "    updatehdr=False)"
   ]
  },
  {
   "cell_type": "markdown",
   "metadata": {},
   "source": [
    "### 2c. Third test:  Increase `searchrad`\n",
    "In this test, the `searchrad` value was increased to a larger value of 4.0\". This large offset is atypical for current HST observations which have more accurate Guide Star positions, but is sometimes required for older observations, such as these taken in 2006. \n",
    "\n",
    "`TweakReg` finds ~500 sources per ACS chip but `TweakReg` fails because is not able to find an adequate number of sources matching the reference image. "
   ]
  },
  {
   "cell_type": "code",
   "execution_count": null,
   "metadata": {},
   "outputs": [],
   "source": [
    "tweakreg.TweakReg(input_flcs, \n",
    "    #conv_width=3.5, \n",
    "    threshold=4000, \n",
    "    searchrad=4.0,\n",
    "    peakmax=70000,\n",
    "    #fitgeometry='rscale',\n",
    "    configobj = None, \n",
    "    interactive=False,\n",
    "    shiftfile=True, \n",
    "    outshifts='shift_searchrad.txt',              \n",
    "    updatehdr=False)"
   ]
  },
  {
   "cell_type": "markdown",
   "metadata": {},
   "source": [
    "The shift file below shows that the xrms and yrms of the computed fit is now ~0.05 pixels."
   ]
  },
  {
   "cell_type": "code",
   "execution_count": null,
   "metadata": {},
   "outputs": [],
   "source": [
    "shift_tab=Table.read('shift_searchrad.txt',\n",
    "                     format='ascii.no_header',\n",
    "                     names=['file','dx','dy','rot','scale','xrms','yrms'])\n",
    "\n",
    "formats = ['.2f', '.2f', '.3f', '.5f', '.2f', '.2f']\n",
    "for i, col in enumerate(shift_tab.colnames[1:]):\n",
    "    shift_tab[col].format = formats[i]\n",
    "shift_tab"
   ]
  },
  {
   "cell_type": "code",
   "execution_count": null,
   "metadata": {},
   "outputs": [],
   "source": [
    "#Give the 'fit residual plots' a unique name for comparison with other tests.\n",
    "\n",
    "os.rename('residuals_j9irw4b1q_flc.png','residuals_j9irw4b1q_flc_searchrad.png')\n",
    "Image(filename='residuals_j9irw4b1q_flc_searchrad.png', width=500, height=600) "
   ]
  },
  {
   "cell_type": "code",
   "execution_count": null,
   "metadata": {},
   "outputs": [],
   "source": [
    "#Give the 'fit residual plots' a unique name for comparison with other tests.\n",
    "\n",
    "os.rename('vector_j9irw4b1q_flc.png', 'vector_j9irw4b1q_flc_searchrad.png')\n",
    "Image(filename='vector_j9irw4b1q_flc_searchrad.png', width=500, height=600) "
   ]
  },
  {
   "cell_type": "markdown",
   "metadata": {},
   "source": [
    "The residual plots are now much improved from the first run, but there is still a systematic skew in the fit residuals, which is believed to be caused by an uncorrected 'skew' in the ACS distortion solution.  \n",
    "\n",
    "As of creation of this notebook in 2018, the following calibration reference files were used:\n",
    "\n",
    "        IDCTAB  = 'jref$0461802ej_idc.fits' / Image Distortion Correction Table\n",
    "    D2IMFILE = 'jref$02c1450oj_d2i.fits' / Column Correction Reference File\n",
    "        NPOLFILE = 'jref$02c14514j_npl.fits' / Non-polynomial Offsets Reference File (F606W)\n",
    "    \n",
    "New distortion solutions, based on the latest Gaia DR2, are in the process of being derived by the ACS team, so observations retrieved from MAST at a later date may or may not show these systematic skew residuals.  Fortunately, these can be corrected by allowing for a higher order `fitgeometry` as shown in the next test.\n",
    "\n",
    "More information about the distortion reference files used by `AstroDrizzle` may be found [here](http://documents.stsci.edu/hst/HST_overview/documents/DrizzlePac/ch33.html)."
   ]
  },
  {
   "cell_type": "markdown",
   "metadata": {},
   "source": [
    "### 2d. Fourth test: Adjust the `fitgeometry`\n",
    "\n",
    "In this test, the `fitgeometry` parameter is changed from the default 'rscale' to 'general' in order to allows for an xy/shift and an independent scale and rotation for each axis."
   ]
  },
  {
   "cell_type": "code",
   "execution_count": null,
   "metadata": {},
   "outputs": [],
   "source": [
    "tweakreg.TweakReg(input_flcs, \n",
    "    #conv_width=3.5, \n",
    "    threshold=4000, \n",
    "    searchrad=4.0,\n",
    "    peakmax=70000,\n",
    "    fitgeometry='general',\n",
    "    configobj = None, \n",
    "    interactive=False,\n",
    "    shiftfile=True, \n",
    "    outshifts='shift_general.txt',              \n",
    "    updatehdr=False)"
   ]
  },
  {
   "cell_type": "code",
   "execution_count": null,
   "metadata": {},
   "outputs": [],
   "source": [
    "shift_tab=Table.read('shift_general.txt',\n",
    "                     format='ascii.no_header',\n",
    "                     names=['file','dx','dy','rot','scale','xrms','yrms'])\n",
    "\n",
    "formats = ['.2f', '.2f', '.3f', '.5f', '.2f', '.2f']\n",
    "for i, col in enumerate(shift_tab.colnames[1:]):\n",
    "    shift_tab[col].format = formats[i]\n",
    "shift_tab"
   ]
  },
  {
   "cell_type": "markdown",
   "metadata": {},
   "source": [
    "While the shift file looks nearly identical to the prior run, this is because the axis-dependent rotation and scale values are averaged together in the shiftfile.  To determine the actual values, it is necessary to inspect the logfile.\n",
    "\n",
    "    j9irw5kaq  SCALE_X: 1.000008792  SCALE_Y: 1.00000757  ROT_X: 0.002818152  ROT_Y: 359.998708  SKEW: 359.9958898\n",
    "    j9irw4b1q  SCALE_X: 0.999986877  SCALE_Y: 1.00003072  ROT_X: 0.004877188  ROT_Y: 0.00405990  SKEW:  -0.0008173   \n",
    "\n",
    "The 'general' fit reduces the fit rms to ~0.03 pixels from the prior value of ~0.05 pixels and removes systematics from the residuals. "
   ]
  },
  {
   "cell_type": "code",
   "execution_count": null,
   "metadata": {},
   "outputs": [],
   "source": [
    "#Give the 'fit residual plots' a unique name for comparison with other tests.\n",
    "\n",
    "os.rename('residuals_j9irw4b1q_flc.png', 'residuals_j9irw4b1q_flc_general.png')\n",
    "Image(filename='residuals_j9irw4b1q_flc_general.png', width=500, height=600) "
   ]
  },
  {
   "cell_type": "markdown",
   "metadata": {},
   "source": [
    "The plot above shows residuals in X and Y plotted as functions of X and Y. Each point represents a source that was used for the alignment. The residuals should look fairly random - if any correlation is seen, this is an indicator of a poor alignment solution. In some cases you will notice a wavy pattern in the residuals in X and Y. This is often seen for UVIS images and is a result of lithographic patterns of the detector that are not fully corrected for in the distortion solutions. The RMS in X and Y are also printed. For a good alignment, we are looking for an RMS on the order of 0.1 pixel or less."
   ]
  },
  {
   "cell_type": "code",
   "execution_count": null,
   "metadata": {},
   "outputs": [],
   "source": [
    "#Give the 'vector residual plots' a unique name for comparison with other tests.\n",
    "\n",
    "os.rename('vector_j9irw4b1q_flc.png', 'vector_j9irw4b1q_flc_general.png')\n",
    "Image(filename='vector_j9irw4b1q_flc_general.png', width=500, height=600) "
   ]
  },
  {
   "cell_type": "markdown",
   "metadata": {},
   "source": [
    "The direction and the magnitude of the arrows in the vector plot above represent the offsets in the source position between the image in question and the reference image. These should visually appear random if the alignment was sucessful."
   ]
  },
  {
   "cell_type": "markdown",
   "metadata": {},
   "source": [
    "You may need to run `TweakReg` run several times with varying parameters until a good fit is found. Notice in the above tests that `updatehdr = False`. This allows you to attempt the alignment and inspect the results without actually updating the WCS to solidify the alignment. Once you are satisfied with the results, `TweakReg` is run a final time with `updatehdr = True`, and a new WCS will be inserted in the file. The default name of this new WCS is 'TWEAK', but can be changed by setting the `wcsname`."
   ]
  },
  {
   "cell_type": "markdown",
   "metadata": {},
   "source": [
    "### 2e. Update header once optimal parameters are found"
   ]
  },
  {
   "cell_type": "code",
   "execution_count": null,
   "metadata": {},
   "outputs": [],
   "source": [
    "# Final run with ideal parameters, updatehdr = True\n",
    "\n",
    "tweakreg.TweakReg(input_flcs, \n",
    "    conv_width=3.5, \n",
    "    threshold=4000, \n",
    "    searchrad=4.0,\n",
    "    peakmax=70000,\n",
    "    fitgeometry='general',\n",
    "    configobj = None, \n",
    "    interactive=False,\n",
    "    shiftfile=False, \n",
    "    updatehdr=True)"
   ]
  },
  {
   "cell_type": "markdown",
   "metadata": {},
   "source": [
    "### 2f. Overplot Matched Sources on the Image\n",
    "\n",
    "Let's plot the sources that were matched between all images on the bottom chip.  Confusingly, this is referred to as 'chip 2' or SCI,1 or extension 1. \n",
    "\n",
    "The cell below shows how to read in the `*_fit.match` file as an `astropy` table. Unfortunatley, it doesn't automatically name columns so you'll have to look at the header to grab the columns."
   ]
  },
  {
   "cell_type": "code",
   "execution_count": null,
   "metadata": {},
   "outputs": [],
   "source": [
    "plt.figure(figsize = (20, 10))\n",
    "chip1_data = fits.open('j9irw4b1q_flc.fits')['SCI', 1].data\n",
    "zscale = ZScaleInterval()\n",
    "z1, z2 = zscale.get_limits(chip1_data)\n",
    "plt.imshow(chip1_data, cmap='Greys',origin='lower', vmin=z1, vmax=z2)\n",
    "\n",
    "match_tab = ascii.read('j9irw4b1q_flc_catalog_fit.match')            #load match file in astropy table\n",
    "match_tab_chip2 = match_tab[match_tab['col15'] == 1]                 #filter table for sources on chip 2 (on ext 1)\n",
    "x_cord, y_cord = match_tab_chip2['col11'], match_tab_chip2['col12']\n",
    "\n",
    "plt.scatter(x_cord, y_cord, s=30, edgecolor='r', facecolor='None',label='Matched Sources, Chip 2')\n",
    "plt.ylim(0,2051)\n",
    "plt.xlim(0,4096)\n",
    "plt.legend(loc='best', fontsize=20)"
   ]
  },
  {
   "cell_type": "markdown",
   "metadata": {},
   "source": [
    "##  3. Combine the Images using AstroDrizzle\n",
    "\n",
    "Now that the images are aligned to a common WCS, they are ready for combination with `AstroDrizzle`. All of the input exposures taken in a single filter will contribute to a single drizzled output file.\n",
    "\n",
    "The `AstroDrizzle` steps after alignment are summarized below.\n",
    "\n",
    "    1. A static pixel mask is created to flag bad detector pixels.\n",
    "    2. Sky subtraction is performed on masked images. \n",
    "    3. Each image is individually drizzled, with geometric distortion corrections, to a common reference frame.\n",
    "    4. The distortion-free drizzled images are combined to create a median image.\n",
    "    5. The median image is blotted, or reverse-drizzled, back to the frame of each input image.\n",
    "    6. By comparing each input image with its counterpart blotted median image, the software locates bad pixels in\n",
    "       each of the original frames & creates bad pixel masks (typically cosmic rays and bad pixels in the detector)\n",
    "    7. In the final step, input images are drizzled together onto a single output image."
   ]
  },
  {
   "cell_type": "markdown",
   "metadata": {},
   "source": [
    "Let's first run `AstroDrizzle` on the aligned input images in the next cell to create a combined image `f606w_combined_drc`, then go into further detail about the drizzle process. \n",
    "\n",
    "Note that astrodrizzle supports the TEAL GUI interface for setting parameters, as well as loading in a custom configuration file (`.cfg`) files, but we will be using the command-line syntax interface to set the parameters in this example, where parameters are passed into the function directly. Any existing `.cfg` file will be overridden by setting `configobj = None` so that unless explicitly set, parameters will be reset to default."
   ]
  },
  {
   "cell_type": "code",
   "execution_count": null,
   "metadata": {},
   "outputs": [],
   "source": [
    "astrodrizzle.AstroDrizzle(input_flcs,\n",
    "    output='f606w_combined',\n",
    "    preserve=False,\n",
    "    driz_sep_bits='64,16',\n",
    "    driz_cr_corr=True,\n",
    "    final_bits='64,16',\n",
    "    clean=False,\n",
    "    configobj=None,\n",
    "    build=True)"
   ]
  },
  {
   "cell_type": "markdown",
   "metadata": {},
   "source": [
    "You will see the following files (among others) output by `AstroDrizzle` in the working directory. \n",
    "1. 'f606w_combined_drc.fits' : Multi-extension FITS file. \n",
    "\n",
    "    When `build = True`, the drizzled science image, context image, weight image, and median image will be combined into a single multi-extension fits file.  This file contains the following extensions:\n",
    "        \n",
    "        Final drizzled science image is contained in ['SCI', 1].\n",
    "        Final drizzled weight  image is contained in ['WHT', 1].\n",
    "        Final drizzled context image is contained in ['CTX', 1].\n",
    "        \n",
    "    When `build = False`, these will be output as separate files (`_sci.fits`, `_wht.fits`, `_ctx.fits`).\n",
    "\n",
    "    When `final_wht_type = EXP` (default), the weight image it is effectively an exposure time map of each pixel in the final drizzled image. Other options are error 'ERR' and inverse variance 'IVM' weighting, as described [in more detail here](https://drizzlepac.readthedocs.io/en/latest/astrodrizzle.html).\n",
    "        \n",
    "    The context image is a map showing which images contribute to the final drizzled stack. Each input image chip is identified by a bit in a 32-bit integer. For example, image1/chip1 = 2^0 = 1, image1/chip2 = 2^1 = 2. Each context image pixel is an additive combination of these bits, depending on which images contributed to the corresponding pixel in the drizzled image.\n",
    "   \n",
    "    \n",
    "2. astrodrizzle.log : Log file containing details of the drizzle processing steps.\n",
    "\n",
    "\n",
    "3. f606w_combined_med.fits : Median image computed from the sky-subtracted, separately-drizzled input images. \n",
    "\n",
    "\n",
    "4. j*_crclean.fits : Cosmic-ray cleaned versions of the original input flc images.\n",
    "\n",
    "Because we set `clean = False`, there will be various other intermediate output files in the directory, including masks, blotted frames, etc. This behavior can be modified with the `clean` and `in_memory` parameters."
   ]
  },
  {
   "cell_type": "markdown",
   "metadata": {},
   "source": [
    "### Inspect the final drizzled image"
   ]
  },
  {
   "cell_type": "code",
   "execution_count": null,
   "metadata": {},
   "outputs": [],
   "source": [
    "plt.figure(figsize = (10, 10))\n",
    "drc_dat = fits.open('f606w_combined_drc.fits')['SCI', 1].data #final drizzled image in SCI,1 extension\n",
    "z1, z2 = zscale.get_limits(drc_dat)\n",
    "plt.imshow(drc_dat, origin='lower', vmin=z1, vmax=z2, cmap='Greys')\n",
    "plt.title('F606W drizzled image', fontsize=30)"
   ]
  },
  {
   "cell_type": "markdown",
   "metadata": {},
   "source": [
    "### Inspect the final weight image"
   ]
  },
  {
   "cell_type": "code",
   "execution_count": null,
   "metadata": {},
   "outputs": [],
   "source": [
    "plt.figure(figsize = (10, 10))\n",
    "drc_dat = fits.open('f606w_combined_drc.fits')['WHT', 1].data #final drizzled image in WHT,1 extension\n",
    "z1, z2 = zscale.get_limits(drc_dat)\n",
    "plt.imshow(drc_dat, origin='lower', vmin=z1, vmax=z2, cmap='Greys')\n",
    "plt.title('F606W weight image', fontsize=30)"
   ]
  },
  {
   "cell_type": "markdown",
   "metadata": {},
   "source": [
    "## Discussion of AstroDrizzle"
   ]
  },
  {
   "cell_type": "markdown",
   "metadata": {},
   "source": [
    "In this example, we imported and ran the `AstroDrizzle` task on our input images, which were previously aligned with `TweakReg`. By setting `configobj` to None, we ensured that `AstroDrizzle` was not picking up any existing configuration files and parameters were restored to default values. We then set a select few parameters to non-default values:\n",
    "   1. `output = 'f606w_combined'` : Output file name root (which will be appended with various suffixes). Defaults to input file name.\n",
    "   2. `driz_sep_bits = '64,16'` : Data quality flags in the `flt.fits` file, which were set during calibration, can be used as bit mask when drizzling. The user may specify which bit values should actually be considered \"good\" and included in image combination. In `astrodrizzle`, this parameter may be given as the sum of those DQ flags or as a comma-separated list, as shown in this example. In this example, 64 and 16 are set, so that both warm pixels and stable hot pixels, which are corrected by the dark, are treated as valid input pixels.\n",
    "   3. `driz_cr_corr = True` : When set to True, the task will create both a cosmic ray mask image (suffix `crmask.fits`) and a clean version of the original input images (suffix `crclean.fits`), where flagged pixels are replaced by pixels from the blotted median. It is strongly recommended that the quality of the cosmic ray masks be verified by blinking the original `flt.fits` input image with both the cosmic ray-cleaned image (`crclean.fits`) and the cosmic-ray mask (`crmask.fits`).\n",
    "   4. `final_bits = '64,16'` : Similar to `driz_sep_bits`, but for the last step when all the input images are combined.\n",
    "   5. `clean = False` : intermediate output files (e.g masks) will be kept. If True, only main outputs will be kept. Also see `in_memory` to control this behavior.\n",
    "   6. `configobj = None` : ignore any TEAL inputs / config files and refresh all parameters to default values.\n",
    "   \n",
    "`AstroDrizzle` has a large number of parameters, which are [described here](https://drizzlepac.readthedocs.io/en/deployment/astrodrizzle.html). Running `AstroDrizzle` using default parameter values is not recommended, as these defaults may not provide optimal science products. Users should also inspect the quality of the sky subtraction and cosmic ray rejection. For dithered data, users may experiment with the output `final_scale` and `final_pixfrac` parameters in the `final_drizzle` step. For more details, see the notebook in this repository to 'Optimize Image Sampling'."
   ]
  },
  {
   "cell_type": "markdown",
   "metadata": {},
   "source": [
    "# About this Notebook\n",
    "\n",
    "    Author: C. Shanahan, STScI WFC3 Team  \n",
    "    Updated: December 17, 2018"
   ]
  }
 ],
 "metadata": {
  "kernelspec": {
   "display_name": "Python 3",
   "language": "python",
   "name": "python3"
  },
  "language_info": {
   "codemirror_mode": {
    "name": "ipython",
    "version": 3
   },
   "file_extension": ".py",
   "mimetype": "text/x-python",
   "name": "python",
   "nbconvert_exporter": "python",
   "pygments_lexer": "ipython3",
   "version": "3.6.9"
  }
 },
 "nbformat": 4,
 "nbformat_minor": 2
}
